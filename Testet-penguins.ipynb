{
  "cells": [
    {
      "cell_type": "markdown",
      "metadata": {
        "id": "view-in-github",
        "colab_type": "text"
      },
      "source": [
        "<a href=\"https://colab.research.google.com/github/gustavoroque97/Teste-t-em-base-de-pinguins/blob/main/Testet-penguins.ipynb\" target=\"_parent\"><img src=\"https://colab.research.google.com/assets/colab-badge.svg\" alt=\"Open In Colab\"/></a>"
      ]
    },
    {
      "cell_type": "markdown",
      "metadata": {
        "id": "PryrFEd4zDMf"
      },
      "source": [
        "# Tarefa"
      ]
    },
    {
      "cell_type": "code",
      "execution_count": 14,
      "metadata": {
        "id": "seMWwjKkzDMh"
      },
      "outputs": [],
      "source": [
        "import pandas as pd\n",
        "import seaborn as sns\n",
        "import matplotlib.pyplot as plt\n",
        "import scipy.stats as st\n",
        "import numpy as np"
      ]
    },
    {
      "cell_type": "code",
      "execution_count": 2,
      "metadata": {
        "id": "K47OAUi1zDMp"
      },
      "outputs": [],
      "source": [
        "pg = sns.load_dataset('penguins')"
      ]
    },
    {
      "cell_type": "code",
      "execution_count": 3,
      "metadata": {
        "colab": {
          "base_uri": "https://localhost:8080/",
          "height": 143
        },
        "id": "25-_ZQtRzDMq",
        "outputId": "e8026505-41bd-4ffa-bd90-f16d73e117b7"
      },
      "outputs": [
        {
          "output_type": "execute_result",
          "data": {
            "text/plain": [
              "        count         mean         std     min     25%     50%     75%     max\n",
              "sex                                                                           \n",
              "Female  165.0  3862.272727  666.172050  2700.0  3350.0  3650.0  4550.0  5200.0\n",
              "Male    168.0  4545.684524  787.628884  3250.0  3900.0  4300.0  5312.5  6300.0"
            ],
            "text/html": [
              "\n",
              "  <div id=\"df-d1d9224f-0ee2-4d13-8cc0-b242adf5e243\" class=\"colab-df-container\">\n",
              "    <div>\n",
              "<style scoped>\n",
              "    .dataframe tbody tr th:only-of-type {\n",
              "        vertical-align: middle;\n",
              "    }\n",
              "\n",
              "    .dataframe tbody tr th {\n",
              "        vertical-align: top;\n",
              "    }\n",
              "\n",
              "    .dataframe thead th {\n",
              "        text-align: right;\n",
              "    }\n",
              "</style>\n",
              "<table border=\"1\" class=\"dataframe\">\n",
              "  <thead>\n",
              "    <tr style=\"text-align: right;\">\n",
              "      <th></th>\n",
              "      <th>count</th>\n",
              "      <th>mean</th>\n",
              "      <th>std</th>\n",
              "      <th>min</th>\n",
              "      <th>25%</th>\n",
              "      <th>50%</th>\n",
              "      <th>75%</th>\n",
              "      <th>max</th>\n",
              "    </tr>\n",
              "    <tr>\n",
              "      <th>sex</th>\n",
              "      <th></th>\n",
              "      <th></th>\n",
              "      <th></th>\n",
              "      <th></th>\n",
              "      <th></th>\n",
              "      <th></th>\n",
              "      <th></th>\n",
              "      <th></th>\n",
              "    </tr>\n",
              "  </thead>\n",
              "  <tbody>\n",
              "    <tr>\n",
              "      <th>Female</th>\n",
              "      <td>165.0</td>\n",
              "      <td>3862.272727</td>\n",
              "      <td>666.172050</td>\n",
              "      <td>2700.0</td>\n",
              "      <td>3350.0</td>\n",
              "      <td>3650.0</td>\n",
              "      <td>4550.0</td>\n",
              "      <td>5200.0</td>\n",
              "    </tr>\n",
              "    <tr>\n",
              "      <th>Male</th>\n",
              "      <td>168.0</td>\n",
              "      <td>4545.684524</td>\n",
              "      <td>787.628884</td>\n",
              "      <td>3250.0</td>\n",
              "      <td>3900.0</td>\n",
              "      <td>4300.0</td>\n",
              "      <td>5312.5</td>\n",
              "      <td>6300.0</td>\n",
              "    </tr>\n",
              "  </tbody>\n",
              "</table>\n",
              "</div>\n",
              "    <div class=\"colab-df-buttons\">\n",
              "\n",
              "  <div class=\"colab-df-container\">\n",
              "    <button class=\"colab-df-convert\" onclick=\"convertToInteractive('df-d1d9224f-0ee2-4d13-8cc0-b242adf5e243')\"\n",
              "            title=\"Convert this dataframe to an interactive table.\"\n",
              "            style=\"display:none;\">\n",
              "\n",
              "  <svg xmlns=\"http://www.w3.org/2000/svg\" height=\"24px\" viewBox=\"0 -960 960 960\">\n",
              "    <path d=\"M120-120v-720h720v720H120Zm60-500h600v-160H180v160Zm220 220h160v-160H400v160Zm0 220h160v-160H400v160ZM180-400h160v-160H180v160Zm440 0h160v-160H620v160ZM180-180h160v-160H180v160Zm440 0h160v-160H620v160Z\"/>\n",
              "  </svg>\n",
              "    </button>\n",
              "\n",
              "  <style>\n",
              "    .colab-df-container {\n",
              "      display:flex;\n",
              "      gap: 12px;\n",
              "    }\n",
              "\n",
              "    .colab-df-convert {\n",
              "      background-color: #E8F0FE;\n",
              "      border: none;\n",
              "      border-radius: 50%;\n",
              "      cursor: pointer;\n",
              "      display: none;\n",
              "      fill: #1967D2;\n",
              "      height: 32px;\n",
              "      padding: 0 0 0 0;\n",
              "      width: 32px;\n",
              "    }\n",
              "\n",
              "    .colab-df-convert:hover {\n",
              "      background-color: #E2EBFA;\n",
              "      box-shadow: 0px 1px 2px rgba(60, 64, 67, 0.3), 0px 1px 3px 1px rgba(60, 64, 67, 0.15);\n",
              "      fill: #174EA6;\n",
              "    }\n",
              "\n",
              "    .colab-df-buttons div {\n",
              "      margin-bottom: 4px;\n",
              "    }\n",
              "\n",
              "    [theme=dark] .colab-df-convert {\n",
              "      background-color: #3B4455;\n",
              "      fill: #D2E3FC;\n",
              "    }\n",
              "\n",
              "    [theme=dark] .colab-df-convert:hover {\n",
              "      background-color: #434B5C;\n",
              "      box-shadow: 0px 1px 3px 1px rgba(0, 0, 0, 0.15);\n",
              "      filter: drop-shadow(0px 1px 2px rgba(0, 0, 0, 0.3));\n",
              "      fill: #FFFFFF;\n",
              "    }\n",
              "  </style>\n",
              "\n",
              "    <script>\n",
              "      const buttonEl =\n",
              "        document.querySelector('#df-d1d9224f-0ee2-4d13-8cc0-b242adf5e243 button.colab-df-convert');\n",
              "      buttonEl.style.display =\n",
              "        google.colab.kernel.accessAllowed ? 'block' : 'none';\n",
              "\n",
              "      async function convertToInteractive(key) {\n",
              "        const element = document.querySelector('#df-d1d9224f-0ee2-4d13-8cc0-b242adf5e243');\n",
              "        const dataTable =\n",
              "          await google.colab.kernel.invokeFunction('convertToInteractive',\n",
              "                                                    [key], {});\n",
              "        if (!dataTable) return;\n",
              "\n",
              "        const docLinkHtml = 'Like what you see? Visit the ' +\n",
              "          '<a target=\"_blank\" href=https://colab.research.google.com/notebooks/data_table.ipynb>data table notebook</a>'\n",
              "          + ' to learn more about interactive tables.';\n",
              "        element.innerHTML = '';\n",
              "        dataTable['output_type'] = 'display_data';\n",
              "        await google.colab.output.renderOutput(dataTable, element);\n",
              "        const docLink = document.createElement('div');\n",
              "        docLink.innerHTML = docLinkHtml;\n",
              "        element.appendChild(docLink);\n",
              "      }\n",
              "    </script>\n",
              "  </div>\n",
              "\n",
              "\n",
              "<div id=\"df-ea3ec9e5-d5f2-43ae-8130-94790ba4bf21\">\n",
              "  <button class=\"colab-df-quickchart\" onclick=\"quickchart('df-ea3ec9e5-d5f2-43ae-8130-94790ba4bf21')\"\n",
              "            title=\"Suggest charts\"\n",
              "            style=\"display:none;\">\n",
              "\n",
              "<svg xmlns=\"http://www.w3.org/2000/svg\" height=\"24px\"viewBox=\"0 0 24 24\"\n",
              "     width=\"24px\">\n",
              "    <g>\n",
              "        <path d=\"M19 3H5c-1.1 0-2 .9-2 2v14c0 1.1.9 2 2 2h14c1.1 0 2-.9 2-2V5c0-1.1-.9-2-2-2zM9 17H7v-7h2v7zm4 0h-2V7h2v10zm4 0h-2v-4h2v4z\"/>\n",
              "    </g>\n",
              "</svg>\n",
              "  </button>\n",
              "\n",
              "<style>\n",
              "  .colab-df-quickchart {\n",
              "      --bg-color: #E8F0FE;\n",
              "      --fill-color: #1967D2;\n",
              "      --hover-bg-color: #E2EBFA;\n",
              "      --hover-fill-color: #174EA6;\n",
              "      --disabled-fill-color: #AAA;\n",
              "      --disabled-bg-color: #DDD;\n",
              "  }\n",
              "\n",
              "  [theme=dark] .colab-df-quickchart {\n",
              "      --bg-color: #3B4455;\n",
              "      --fill-color: #D2E3FC;\n",
              "      --hover-bg-color: #434B5C;\n",
              "      --hover-fill-color: #FFFFFF;\n",
              "      --disabled-bg-color: #3B4455;\n",
              "      --disabled-fill-color: #666;\n",
              "  }\n",
              "\n",
              "  .colab-df-quickchart {\n",
              "    background-color: var(--bg-color);\n",
              "    border: none;\n",
              "    border-radius: 50%;\n",
              "    cursor: pointer;\n",
              "    display: none;\n",
              "    fill: var(--fill-color);\n",
              "    height: 32px;\n",
              "    padding: 0;\n",
              "    width: 32px;\n",
              "  }\n",
              "\n",
              "  .colab-df-quickchart:hover {\n",
              "    background-color: var(--hover-bg-color);\n",
              "    box-shadow: 0 1px 2px rgba(60, 64, 67, 0.3), 0 1px 3px 1px rgba(60, 64, 67, 0.15);\n",
              "    fill: var(--button-hover-fill-color);\n",
              "  }\n",
              "\n",
              "  .colab-df-quickchart-complete:disabled,\n",
              "  .colab-df-quickchart-complete:disabled:hover {\n",
              "    background-color: var(--disabled-bg-color);\n",
              "    fill: var(--disabled-fill-color);\n",
              "    box-shadow: none;\n",
              "  }\n",
              "\n",
              "  .colab-df-spinner {\n",
              "    border: 2px solid var(--fill-color);\n",
              "    border-color: transparent;\n",
              "    border-bottom-color: var(--fill-color);\n",
              "    animation:\n",
              "      spin 1s steps(1) infinite;\n",
              "  }\n",
              "\n",
              "  @keyframes spin {\n",
              "    0% {\n",
              "      border-color: transparent;\n",
              "      border-bottom-color: var(--fill-color);\n",
              "      border-left-color: var(--fill-color);\n",
              "    }\n",
              "    20% {\n",
              "      border-color: transparent;\n",
              "      border-left-color: var(--fill-color);\n",
              "      border-top-color: var(--fill-color);\n",
              "    }\n",
              "    30% {\n",
              "      border-color: transparent;\n",
              "      border-left-color: var(--fill-color);\n",
              "      border-top-color: var(--fill-color);\n",
              "      border-right-color: var(--fill-color);\n",
              "    }\n",
              "    40% {\n",
              "      border-color: transparent;\n",
              "      border-right-color: var(--fill-color);\n",
              "      border-top-color: var(--fill-color);\n",
              "    }\n",
              "    60% {\n",
              "      border-color: transparent;\n",
              "      border-right-color: var(--fill-color);\n",
              "    }\n",
              "    80% {\n",
              "      border-color: transparent;\n",
              "      border-right-color: var(--fill-color);\n",
              "      border-bottom-color: var(--fill-color);\n",
              "    }\n",
              "    90% {\n",
              "      border-color: transparent;\n",
              "      border-bottom-color: var(--fill-color);\n",
              "    }\n",
              "  }\n",
              "</style>\n",
              "\n",
              "  <script>\n",
              "    async function quickchart(key) {\n",
              "      const quickchartButtonEl =\n",
              "        document.querySelector('#' + key + ' button');\n",
              "      quickchartButtonEl.disabled = true;  // To prevent multiple clicks.\n",
              "      quickchartButtonEl.classList.add('colab-df-spinner');\n",
              "      try {\n",
              "        const charts = await google.colab.kernel.invokeFunction(\n",
              "            'suggestCharts', [key], {});\n",
              "      } catch (error) {\n",
              "        console.error('Error during call to suggestCharts:', error);\n",
              "      }\n",
              "      quickchartButtonEl.classList.remove('colab-df-spinner');\n",
              "      quickchartButtonEl.classList.add('colab-df-quickchart-complete');\n",
              "    }\n",
              "    (() => {\n",
              "      let quickchartButtonEl =\n",
              "        document.querySelector('#df-ea3ec9e5-d5f2-43ae-8130-94790ba4bf21 button');\n",
              "      quickchartButtonEl.style.display =\n",
              "        google.colab.kernel.accessAllowed ? 'block' : 'none';\n",
              "    })();\n",
              "  </script>\n",
              "</div>\n",
              "\n",
              "    </div>\n",
              "  </div>\n"
            ],
            "application/vnd.google.colaboratory.intrinsic+json": {
              "type": "dataframe",
              "summary": "{\n  \"name\": \"pg\",\n  \"rows\": 2,\n  \"fields\": [\n    {\n      \"column\": \"sex\",\n      \"properties\": {\n        \"dtype\": \"string\",\n        \"num_unique_values\": 2,\n        \"samples\": [\n          \"Male\",\n          \"Female\"\n        ],\n        \"semantic_type\": \"\",\n        \"description\": \"\"\n      }\n    },\n    {\n      \"column\": \"count\",\n      \"properties\": {\n        \"dtype\": \"number\",\n        \"std\": 2.1213203435596424,\n        \"min\": 165.0,\n        \"max\": 168.0,\n        \"num_unique_values\": 2,\n        \"samples\": [\n          168.0,\n          165.0\n        ],\n        \"semantic_type\": \"\",\n        \"description\": \"\"\n      }\n    },\n    {\n      \"column\": \"mean\",\n      \"properties\": {\n        \"dtype\": \"number\",\n        \"std\": 483.2451156740498,\n        \"min\": 3862.2727272727275,\n        \"max\": 4545.684523809524,\n        \"num_unique_values\": 2,\n        \"samples\": [\n          4545.684523809524,\n          3862.2727272727275\n        ],\n        \"semantic_type\": \"\",\n        \"description\": \"\"\n      }\n    },\n    {\n      \"column\": \"std\",\n      \"properties\": {\n        \"dtype\": \"number\",\n        \"std\": 85.88295139683227,\n        \"min\": 666.1720495161449,\n        \"max\": 787.6288841581744,\n        \"num_unique_values\": 2,\n        \"samples\": [\n          787.6288841581744,\n          666.1720495161449\n        ],\n        \"semantic_type\": \"\",\n        \"description\": \"\"\n      }\n    },\n    {\n      \"column\": \"min\",\n      \"properties\": {\n        \"dtype\": \"number\",\n        \"std\": 388.90872965260115,\n        \"min\": 2700.0,\n        \"max\": 3250.0,\n        \"num_unique_values\": 2,\n        \"samples\": [\n          3250.0,\n          2700.0\n        ],\n        \"semantic_type\": \"\",\n        \"description\": \"\"\n      }\n    },\n    {\n      \"column\": \"25%\",\n      \"properties\": {\n        \"dtype\": \"number\",\n        \"std\": 388.90872965260115,\n        \"min\": 3350.0,\n        \"max\": 3900.0,\n        \"num_unique_values\": 2,\n        \"samples\": [\n          3900.0,\n          3350.0\n        ],\n        \"semantic_type\": \"\",\n        \"description\": \"\"\n      }\n    },\n    {\n      \"column\": \"50%\",\n      \"properties\": {\n        \"dtype\": \"number\",\n        \"std\": 459.6194077712559,\n        \"min\": 3650.0,\n        \"max\": 4300.0,\n        \"num_unique_values\": 2,\n        \"samples\": [\n          4300.0,\n          3650.0\n        ],\n        \"semantic_type\": \"\",\n        \"description\": \"\"\n      }\n    },\n    {\n      \"column\": \"75%\",\n      \"properties\": {\n        \"dtype\": \"number\",\n        \"std\": 539.1689206547425,\n        \"min\": 4550.0,\n        \"max\": 5312.5,\n        \"num_unique_values\": 2,\n        \"samples\": [\n          5312.5,\n          4550.0\n        ],\n        \"semantic_type\": \"\",\n        \"description\": \"\"\n      }\n    },\n    {\n      \"column\": \"max\",\n      \"properties\": {\n        \"dtype\": \"number\",\n        \"std\": 777.8174593052023,\n        \"min\": 5200.0,\n        \"max\": 6300.0,\n        \"num_unique_values\": 2,\n        \"samples\": [\n          6300.0,\n          5200.0\n        ],\n        \"semantic_type\": \"\",\n        \"description\": \"\"\n      }\n    }\n  ]\n}"
            }
          },
          "metadata": {},
          "execution_count": 3
        }
      ],
      "source": [
        "pg.groupby('sex')['body_mass_g'].describe()"
      ]
    },
    {
      "cell_type": "code",
      "execution_count": 4,
      "metadata": {
        "colab": {
          "base_uri": "https://localhost:8080/",
          "height": 466
        },
        "id": "aeVZqwgDzDMu",
        "outputId": "8891f122-6730-423e-e8b5-e2ffb19f6037"
      },
      "outputs": [
        {
          "output_type": "execute_result",
          "data": {
            "text/plain": [
              "<Axes: xlabel='sex', ylabel='body_mass_g'>"
            ]
          },
          "metadata": {},
          "execution_count": 4
        },
        {
          "output_type": "display_data",
          "data": {
            "text/plain": [
              "<Figure size 640x480 with 1 Axes>"
            ],
            "image/png": "[encoded data removed]"
          },
          "metadata": {}
        }
      ],
      "source": [
        "sns.pointplot(data=pg, x='sex', y = 'body_mass_g')"
      ]
    },
    {
      "cell_type": "markdown",
      "metadata": {
        "id": "dNpc0opVzDMw"
      },
      "source": [
        "## 1) Diferença de peso entre machos e fêmeas\n",
        "\n",
        "Na base de pinguins, podemos ver que há diferença de peso entre machos e fêmeas. Mas será que é uma conclusão extrapolável a toda a população de pinguins? Assumindo que essa amostra é aleatória e representativa da população de pinguins, realize um teste T com 5% de significância para verificar se podemos induzir esta conclusão para a população toda."
      ]
    },
    {
      "cell_type": "code",
      "execution_count": 39,
      "metadata": {
        "colab": {
          "base_uri": "https://localhost:8080/"
        },
        "id": "6jRpnQ-XzDMy",
        "outputId": "0a03541a-31f1-45a9-840c-c516996e2ec3"
      },
      "outputs": [
        {
          "output_type": "stream",
          "name": "stdout",
          "text": [
            "diferença: 683.41\n",
            "desvio padrão: 729.43\n",
            "erro padrão: 55.62\n",
            "estatística do teste: 12.29\n",
            "região crítica: 1.65 ou mais\n",
            "p-value: 0.00000 ou mais\n"
          ]
        }
      ],
      "source": [
        "desvpad = pg.groupby('sex')['body_mass_g'].var().mean()**0.5\n",
        "media_macho = pg.groupby('sex')['body_mass_g'].mean()['Male']\n",
        "media_femea = pg.groupby('sex')['body_mass_g'].mean()['Female']\n",
        "\n",
        "dif = media_macho - media_femea\n",
        "erro_padrao = desvpad*((2/pg.shape[0])**0.5)\n",
        "t = dif/erro_padrao\n",
        "RC = st.t.ppf(0.95,pg.shape[0]-1)\n",
        "p_value = 1-st.t.cdf(t,pg.shape[0]-1)\n",
        "\n",
        "print(f'diferença: {dif:.2f}')\n",
        "print(f'desvio padrão: {desvpad:.2f}')\n",
        "print(f'erro padrão: {erro_padrao:.2f}')\n",
        "print(f'estatística do teste: {t:.2f}')\n",
        "print(f'região crítica: {RC:.2f} ou mais')\n",
        "print(f'p-value: {p_value:.5f} ou mais')"
      ]
    },
    {
      "cell_type": "markdown",
      "source": [
        "Por esse p-value, podemos descartar a hipótese nula, ou seja, que pinguins machos e femeas possuem a mesma massa corporal em média, logo a diferença é significativa."
      ],
      "metadata": {
        "id": "oXsu0Aoy3HGd"
      }
    },
    {
      "cell_type": "markdown",
      "metadata": {
        "id": "zH2kEsDVzDMz"
      },
      "source": [
        "## 2) (opcional) Representação gráfica do teste\n",
        "\n",
        "Siga os passos da aula para você poder visualizar a estatística do teste, sua distribuição e a região crítica do teste."
      ]
    },
    {
      "cell_type": "code",
      "execution_count": 40,
      "metadata": {
        "colab": {
          "base_uri": "https://localhost:8080/",
          "height": 308
        },
        "id": "2Jycqz-VzDM1",
        "outputId": "134e5bdb-f18a-4b00-c1a7-d1f4fbcb10c5"
      },
      "outputs": [
        {
          "output_type": "stream",
          "name": "stdout",
          "text": [
            "A probabilidade para valores entre 1,65 e inf é de 5,82%\n"
          ]
        },
        {
          "output_type": "display_data",
          "data": {
            "text/plain": [
              "<Figure size 1000x300 with 1 Axes>"
            ],
            "image/png": "[encoded data removed]"
          },
          "metadata": {}
        }
      ],
      "source": [
        "fig, ax = plt.subplots(figsize=(10,3))\n",
        "\n",
        "# Parâmetros da densidade sob H0\n",
        "mu = 0\n",
        "variance = 1\n",
        "sigma = variance**.5\n",
        "\n",
        "# Valores de X e Y para plotar a densidade\n",
        "x = np.linspace(mu - 3*sigma, mu + 3*sigma, 100)\n",
        "y = st.t.pdf(x, pg.shape[0]-1)\n",
        "\n",
        "# low = início da região crítica do teste\n",
        "low = st.t.ppf(.95, pg.shape[0]-1)\n",
        "high = np.inf\n",
        "\n",
        "# Gráfico da densidade\n",
        "ax.plot(x, y)\n",
        "# Esta linha de referência marca o valor observado da estatística do teste\n",
        "ax.vlines(x=[t],\n",
        "             ymin=0, ymax=y.max(),\n",
        "             colors='r', linestyles='dotted')\n",
        "\n",
        "# área\n",
        "plt.fill_between(x, y, where=(low < x) & (x < high), alpha=.5)\n",
        "\n",
        "# Probabilidade de X pertencer à área\n",
        "prob_area = st.t.cdf(high, 18) - st.t.cdf(low, 18)\n",
        "print(f'A probabilidade para valores entre {low:.2f} e {high:.2f} é de {prob_area:.2%}'.replace('.',','))"
      ]
    },
    {
      "cell_type": "markdown",
      "metadata": {
        "id": "cKExNPyPzDM2"
      },
      "source": [
        "## 3) Considere as espécies\n",
        "\n",
        "Repita o exercício I, uma vez para cada espécie de pinguim. Qual é o *p-value* associado a cada raça?"
      ]
    },
    {
      "cell_type": "code",
      "execution_count": 43,
      "metadata": {
        "colab": {
          "base_uri": "https://localhost:8080/"
        },
        "id": "j67SNEqozDM3",
        "outputId": "25bff62c-6c27-4738-bd83-e3e4a6e79680"
      },
      "outputs": [
        {
          "output_type": "execute_result",
          "data": {
            "text/plain": [
              "array(['Adelie', 'Chinstrap', 'Gentoo'], dtype=object)"
            ]
          },
          "metadata": {},
          "execution_count": 43
        }
      ],
      "source": [
        "pg.species.unique()"
      ]
    },
    {
      "cell_type": "code",
      "source": [
        "pg_adelie = pg[pg['species']=='Adelie']\n",
        "pg_chinstrap = pg[pg['species']=='Chinstrap']\n",
        "pg_gentoo = pg[pg['species']=='Gentoo']"
      ],
      "metadata": {
        "id": "M5tU4wlR7x0z"
      },
      "execution_count": 46,
      "outputs": []
    },
    {
      "cell_type": "code",
      "source": [
        "desvpad = pg_adelie.groupby('sex')['body_mass_g'].var().mean()**0.5\n",
        "media_macho = pg_adelie.groupby('sex')['body_mass_g'].mean()['Male']\n",
        "media_femea = pg_adelie.groupby('sex')['body_mass_g'].mean()['Female']\n",
        "\n",
        "dif = media_macho - media_femea\n",
        "erro_padrao = desvpad*((2/pg_adelie.shape[0])**0.5)\n",
        "t = dif/erro_padrao\n",
        "RC = st.t.ppf(0.95,pg_adelie.shape[0]-1)\n",
        "p_value = 1-st.t.cdf(t,pg_adelie.shape[0]-1)\n",
        "\n",
        "print(f'diferença: {dif:.2f}')\n",
        "print(f'desvio padrão: {desvpad:.2f}')\n",
        "print(f'erro padrão: {erro_padrao:.2f}')\n",
        "print(f'estatística do teste: {t:.2f}')\n",
        "print(f'região crítica: {RC:.2f} ou mais')\n",
        "print(f'p-value: {p_value:.5f} ou mais')"
      ],
      "metadata": {
        "colab": {
          "base_uri": "https://localhost:8080/"
        },
        "id": "_IU7DeJt7xAf",
        "outputId": "88c15afa-dd95-4347-a662-5b97f555c9dd"
      },
      "execution_count": 48,
      "outputs": [
        {
          "output_type": "stream",
          "name": "stdout",
          "text": [
            "diferença: 674.66\n",
            "desvio padrão: 310.52\n",
            "erro padrão: 35.62\n",
            "estatística do teste: 18.94\n",
            "região crítica: 1.66 ou mais\n",
            "p-value: 0.00000 ou mais\n"
          ]
        }
      ]
    },
    {
      "cell_type": "code",
      "source": [
        "desvpad = pg_chinstrap.groupby('sex')['body_mass_g'].var().mean()**0.5\n",
        "media_macho = pg_chinstrap.groupby('sex')['body_mass_g'].mean()['Male']\n",
        "media_femea = pg_chinstrap.groupby('sex')['body_mass_g'].mean()['Female']\n",
        "\n",
        "dif = media_macho - media_femea\n",
        "erro_padrao = desvpad*((2/pg_chinstrap.shape[0])**0.5)\n",
        "t = dif/erro_padrao\n",
        "RC = st.t.ppf(0.95,pg_chinstrap.shape[0]-1)\n",
        "p_value = 1-st.t.cdf(t,pg_chinstrap.shape[0]-1)\n",
        "\n",
        "print(f'diferença: {dif:.2f}')\n",
        "print(f'desvio padrão: {desvpad:.2f}')\n",
        "print(f'erro padrão: {erro_padrao:.2f}')\n",
        "print(f'estatística do teste: {t:.2f}')\n",
        "print(f'região crítica: {RC:.2f} ou mais')\n",
        "print(f'p-value: {p_value:.5f} ou mais')"
      ],
      "metadata": {
        "colab": {
          "base_uri": "https://localhost:8080/"
        },
        "id": "IUBgjyLx8N_z",
        "outputId": "82939f30-0925-4419-d6d6-374554e6d1ae"
      },
      "execution_count": 51,
      "outputs": [
        {
          "output_type": "stream",
          "name": "stdout",
          "text": [
            "diferença: 411.76\n",
            "desvio padrão: 326.01\n",
            "erro padrão: 55.91\n",
            "estatística do teste: 7.36\n",
            "região crítica: 1.67 ou mais\n",
            "p-value: 0.00000 ou mais\n"
          ]
        }
      ]
    },
    {
      "cell_type": "code",
      "source": [
        "desvpad = pg_gentoo.groupby('sex')['body_mass_g'].var().mean()**0.5\n",
        "media_macho = pg_gentoo.groupby('sex')['body_mass_g'].mean()['Male']\n",
        "media_femea = pg_gentoo.groupby('sex')['body_mass_g'].mean()['Female']\n",
        "\n",
        "dif = media_macho - media_femea\n",
        "erro_padrao = desvpad*((2/pg_gentoo.shape[0])**0.5)\n",
        "t = dif/erro_padrao\n",
        "RC = st.t.ppf(0.95,pg_gentoo.shape[0]-1)\n",
        "p_value = 1-st.t.cdf(t,pg_gentoo.shape[0]-1)\n",
        "\n",
        "print(f'diferença: {dif:.2f}')\n",
        "print(f'desvio padrão: {desvpad:.2f}')\n",
        "print(f'erro padrão: {erro_padrao:.2f}')\n",
        "print(f'estatística do teste: {t:.2f}')\n",
        "print(f'região crítica: {RC:.2f} ou mais')\n",
        "print(f'p-value: {p_value:.5f} ou mais')"
      ],
      "metadata": {
        "colab": {
          "base_uri": "https://localhost:8080/"
        },
        "id": "jUIWF4aB8YSH",
        "outputId": "6a2f8052-2140-4c41-b259-136995c7c9a3"
      },
      "execution_count": 53,
      "outputs": [
        {
          "output_type": "stream",
          "name": "stdout",
          "text": [
            "diferença: 805.09\n",
            "desvio padrão: 297.79\n",
            "erro padrão: 37.82\n",
            "estatística do teste: 21.29\n",
            "região crítica: 1.66 ou mais\n",
            "p-value: 0.00000 ou mais\n"
          ]
        }
      ]
    },
    {
      "cell_type": "markdown",
      "source": [
        "As diferenças de peso são significativas para todas as três espécies."
      ],
      "metadata": {
        "id": "zeECnY_m8ijw"
      }
    },
    {
      "cell_type": "code",
      "source": [
        "sns.boxplot(data=pg,x='species',y='body_mass_g', hue='sex')"
      ],
      "metadata": {
        "colab": {
          "base_uri": "https://localhost:8080/",
          "height": 466
        },
        "id": "M77cOgUs8iUl",
        "outputId": "342144fc-8571-41cd-b98f-d59c56153072"
      },
      "execution_count": 56,
      "outputs": [
        {
          "output_type": "execute_result",
          "data": {
            "text/plain": [
              "<Axes: xlabel='species', ylabel='body_mass_g'>"
            ]
          },
          "metadata": {},
          "execution_count": 56
        },
        {
          "output_type": "display_data",
          "data": {
            "text/plain": [
              "<Figure size 640x480 with 1 Axes>"
            ],
            "image/png": "[encoded data removed]"
          },
          "metadata": {}
        }
      ]
    }
  ],
  "metadata": {
    "kernelspec": {
      "display_name": "Python 3",
      "language": "python",
      "name": "python3"
    },
    "language_info": {
      "codemirror_mode": {
        "name": "ipython",
        "version": 3
      },
      "file_extension": ".py",
      "mimetype": "text/x-python",
      "name": "python",
      "nbconvert_exporter": "python",
      "pygments_lexer": "ipython3",
      "version": "3.8.5"
    },
    "toc": {
      "base_numbering": 1,
      "nav_menu": {},
      "number_sections": false,
      "sideBar": true,
      "skip_h1_title": true,
      "title_cell": "Índice",
      "title_sidebar": "Conteúdo",
      "toc_cell": false,
      "toc_position": {},
      "toc_section_display": true,
      "toc_window_display": false
    },
    "varInspector": {
      "cols": {
        "lenName": 16,
        "lenType": 16,
        "lenVar": 40
      },
      "kernels_config": {
        "python": {
          "delete_cmd_postfix": "",
          "delete_cmd_prefix": "del ",
          "library": "var_list.py",
          "varRefreshCmd": "print(var_dic_list())"
        },
        "r": {
          "delete_cmd_postfix": ") ",
          "delete_cmd_prefix": "rm(",
          "library": "var_list.r",
          "varRefreshCmd": "cat(var_dic_list()) "
        }
      },
      "types_to_exclude": [
        "module",
        "function",
        "builtin_function_or_method",
        "instance",
        "_Feature"
      ],
      "window_display": false
    },
    "colab": {
      "provenance": [],
      "include_colab_link": true
    }
  },
  "nbformat": 4,
  "nbformat_minor": 0
}